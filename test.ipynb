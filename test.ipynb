{
  "nbformat": 4,
  "nbformat_minor": 0,
  "metadata": {
    "colab": {
      "name": "Untitled5.ipynb",
      "provenance": [],
      "authorship_tag": "ABX9TyNQ5ZVe91qkQ2GMmDVg7Ly6",
      "include_colab_link": true
    },
    "kernelspec": {
      "name": "python3",
      "display_name": "Python 3"
    },
    "accelerator": "GPU"
  },
  "cells": [
    {
      "cell_type": "markdown",
      "metadata": {
        "id": "view-in-github",
        "colab_type": "text"
      },
      "source": [
        "<a href=\"https://colab.research.google.com/github/darksiding/1/blob/master/test.ipynb\" target=\"_parent\"><img src=\"https://colab.research.google.com/assets/colab-badge.svg\" alt=\"Open In Colab\"/></a>"
      ]
    },
    {
      "cell_type": "code",
      "metadata": {
        "id": "VmywaW_UXbZw",
        "colab_type": "code",
        "colab": {}
      },
      "source": [
        "import tensorflow.compat.v1 as tf\n",
        "tf.disable_v2_behavior()\n",
        "import tensorflow as tf\n",
        "from tensorflow.keras.datasets import mnist\n",
        "from tensorflow.keras.models import Sequential\n",
        "from tensorflow.keras.layers import Dense, Dropout\n",
        "from tensorflow.keras.layers import Flatten,  MaxPooling2D, Conv2D\n",
        "\n",
        "import matplotlib.pyplot as plt\n",
        "%matplotlib inline"
      ],
      "execution_count": 0,
      "outputs": []
    },
    {
      "cell_type": "code",
      "metadata": {
        "id": "WMvbq3PkXtXe",
        "colab_type": "code",
        "colab": {}
      },
      "source": [
        ""
      ],
      "execution_count": 0,
      "outputs": []
    },
    {
      "cell_type": "code",
      "metadata": {
        "id": "YXJOOYlUX0BO",
        "colab_type": "code",
        "colab": {}
      },
      "source": [
        ""
      ],
      "execution_count": 0,
      "outputs": []
    },
    {
      "cell_type": "code",
      "metadata": {
        "id": "p4NgvtrAX0mt",
        "colab_type": "code",
        "outputId": "e14c3eb1-3a81-4771-dc0b-710e92d34c0d",
        "colab": {
          "base_uri": "https://localhost:8080/",
          "height": 282
        }
      },
      "source": [
        ""
      ],
      "execution_count": 0,
      "outputs": [
        {
          "output_type": "execute_result",
          "data": {
            "text/plain": [
              "<matplotlib.image.AxesImage at 0x7f889ff272b0>"
            ]
          },
          "metadata": {
            "tags": []
          },
          "execution_count": 24
        },
        {
          "output_type": "display_data",
          "data": {
            "image/png": "[encoded data removed]",
            "text/plain": [
              "<Figure size 432x288 with 1 Axes>"
            ]
          },
          "metadata": {
            "tags": []
          }
        }
      ]
    },
    {
      "cell_type": "code",
      "metadata": {
        "id": "OMJJTWQ_X161",
        "colab_type": "code",
        "colab": {}
      },
      "source": [
        "X_train /= 255\n",
        "X_test /= 255"
      ],
      "execution_count": 0,
      "outputs": []
    },
    {
      "cell_type": "code",
      "metadata": {
        "id": "Oza-c6lEX3Ke",
        "colab_type": "code",
        "colab": {}
      },
      "source": [
        "n_classes = 10\n",
        "y_train = tf.keras.utils.to_categorical(y_train, n_classes)\n",
        "y_test = tf.keras.utils.to_categorical(y_test, n_classes)"
      ],
      "execution_count": 0,
      "outputs": []
    },
    {
      "cell_type": "code",
      "metadata": {
        "colab_type": "code",
        "outputId": "58738fc6-5c01-48ca-b536-8f206996951d",
        "id": "boq_Aayfa105",
        "colab": {
          "base_uri": "https://localhost:8080/",
          "height": 34
        }
      },
      "source": [
        "y_train[10]\n"
      ],
      "execution_count": 0,
      "outputs": [
        {
          "output_type": "execute_result",
          "data": {
            "text/plain": [
              "array([0., 0., 0., 1., 0., 0., 0., 0., 0., 0.], dtype=float32)"
            ]
          },
          "metadata": {
            "tags": []
          },
          "execution_count": 31
        }
      ]
    },
    {
      "cell_type": "code",
      "metadata": {
        "id": "clWHfl9UbVwK",
        "colab_type": "code",
        "colab": {}
      },
      "source": [
        "model = Sequential([\n",
        "\t\t\tConv2D(32, kernel_size=(3,3), activation='relu', input_shape=(28,28,1)),\n",
        "\t\t\tConv2D(64, kernel_size=(3,3), activation='relu'),\n",
        "\t\t\tMaxPooling2D(pool_size=(2,2)),\n",
        "\t\t\tDropout(0.25),\n",
        "\t\t\tFlatten(),\n",
        "\t\t\tDense(128, activation='relu'),\n",
        "\t\t\tDropout(0.5),\n",
        "\t\t\tDense(n_classes, activation='softmax')\n",
        "\t\t])\n"
      ],
      "execution_count": 0,
      "outputs": []
    },
    {
      "cell_type": "code",
      "metadata": {
        "id": "yzaBMRazbWYX",
        "colab_type": "code",
        "colab": {}
      },
      "source": [
        "model.compile(loss='categorical_crossentropy', optimizer='adam', metrics=['accuracy'])\n"
      ],
      "execution_count": 0,
      "outputs": []
    },
    {
      "cell_type": "code",
      "metadata": {
        "id": "5ZuHsBekbXqm",
        "colab_type": "code",
        "colab": {
          "base_uri": "https://localhost:8080/",
          "height": 411
        },
        "outputId": "3355bf29-d73f-4609-abf2-65a3b8b32b9e"
      },
      "source": [
        "model.fit(X_train, y_train, batch_size=128, epochs=10, verbose=1,\n",
        "          validation_data=(X_test,y_test))"
      ],
      "execution_count": 34,
      "outputs": [
        {
          "output_type": "stream",
          "text": [
            "Train on 60000 samples, validate on 10000 samples\n",
            "Epoch 1/10\n",
            "60000/60000 [==============================] - 3s 54us/sample - loss: 0.2484 - acc: 0.9245 - val_loss: 0.0531 - val_acc: 0.9833\n",
            "Epoch 2/10\n",
            "60000/60000 [==============================] - 3s 52us/sample - loss: 0.0875 - acc: 0.9738 - val_loss: 0.0398 - val_acc: 0.9863\n",
            "Epoch 3/10\n",
            "60000/60000 [==============================] - 3s 51us/sample - loss: 0.0645 - acc: 0.9805 - val_loss: 0.0346 - val_acc: 0.9887\n",
            "Epoch 4/10\n",
            "60000/60000 [==============================] - 3s 51us/sample - loss: 0.0524 - acc: 0.9842 - val_loss: 0.0292 - val_acc: 0.9900\n",
            "Epoch 5/10\n",
            "60000/60000 [==============================] - 3s 52us/sample - loss: 0.0457 - acc: 0.9857 - val_loss: 0.0265 - val_acc: 0.9910\n",
            "Epoch 6/10\n",
            "60000/60000 [==============================] - 3s 53us/sample - loss: 0.0395 - acc: 0.9877 - val_loss: 0.0265 - val_acc: 0.9915\n",
            "Epoch 7/10\n",
            "60000/60000 [==============================] - 3s 51us/sample - loss: 0.0343 - acc: 0.9896 - val_loss: 0.0245 - val_acc: 0.9923\n",
            "Epoch 8/10\n",
            "60000/60000 [==============================] - 3s 51us/sample - loss: 0.0308 - acc: 0.9896 - val_loss: 0.0292 - val_acc: 0.9915\n",
            "Epoch 9/10\n",
            "60000/60000 [==============================] - 3s 50us/sample - loss: 0.0283 - acc: 0.9909 - val_loss: 0.0265 - val_acc: 0.9915\n",
            "Epoch 10/10\n",
            "60000/60000 [==============================] - 3s 52us/sample - loss: 0.0260 - acc: 0.9911 - val_loss: 0.0271 - val_acc: 0.9920\n"
          ],
          "name": "stdout"
        },
        {
          "output_type": "execute_result",
          "data": {
            "text/plain": [
              "<tensorflow.python.keras.callbacks.History at 0x7f889fff25c0>"
            ]
          },
          "metadata": {
            "tags": []
          },
          "execution_count": 34
        }
      ]
    },
    {
      "cell_type": "code",
      "metadata": {
        "id": "Da7x1IRhbZx_",
        "colab_type": "code",
        "colab": {}
      },
      "source": [
        ""
      ],
      "execution_count": 0,
      "outputs": []
    }
  ]
}